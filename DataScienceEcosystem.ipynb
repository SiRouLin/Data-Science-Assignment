{
 "cells": [
  {
   "cell_type": "markdown",
   "id": "dea87339-e5d3-40a2-9eb8-d3fdd8824248",
   "metadata": {
    "tags": []
   },
   "source": [
    "<h1>Data Science Tools and Ecosystem<h1>"
   ]
  },
  {
   "cell_type": "markdown",
   "id": "9dfd4507-2773-4010-8be8-5250411244db",
   "metadata": {},
   "source": [
    "In this notebook, Data Science Tools and Ecosystem are summarized."
   ]
  },
  {
   "cell_type": "markdown",
   "id": "208e9e6c-7ca5-49e8-aed6-700d48213f83",
   "metadata": {},
   "source": [
    "**Objectives:**\n",
    "* List popular languages for Data Science\n",
    "* List commons libraries for Data Science\n",
    "* Examples of arithmetic expressions in Python "
   ]
  },
  {
   "cell_type": "markdown",
   "id": "e677459d-402f-4d47-b1d9-1f610a11dbd7",
   "metadata": {},
   "source": [
    "Some of the popular languages that Data Scientists use are:\n",
    "<ol>\n",
    "<li>Python\n",
    "<li>SQL\n",
    "<li>R\n",
    "    <ol>"
   ]
  },
  {
   "cell_type": "markdown",
   "id": "90c6540e-4958-43d5-bf0a-706152919fa1",
   "metadata": {},
   "source": [
    "Some of the commonly used libraries used by Data Scientists include:\n",
    "<ol>\n",
    "    <li>TensorFlow\n",
    "        <li>NumPy\n",
    "            <li>SciPy\n",
    "                <ol>"
   ]
  },
  {
   "cell_type": "markdown",
   "id": "613f26bb-3246-4521-ae72-dda7e71976a1",
   "metadata": {},
   "source": [
    "| Data Science Tools |\n",
    "| ------------------ |\n",
    "| R Studio           |\n",
    "| Jupyter Notebooks  |\n",
    "| Zeppelin Notebooks |"
   ]
  },
  {
   "cell_type": "markdown",
   "id": "828bc79d-a088-4e24-9633-de605b19047c",
   "metadata": {},
   "source": [
    "<h3>Below are a few examples of evaluating arithmetic expressions in Python<h3>"
   ]
  },
  {
   "cell_type": "code",
   "execution_count": 1,
   "id": "2e575751-5160-452a-ae1c-4c6d5554b823",
   "metadata": {},
   "outputs": [
    {
     "name": "stdout",
     "output_type": "stream",
     "text": [
      "17\n"
     ]
    }
   ],
   "source": [
    "# This a simple arithmetic expression to mutiply then add integers\n",
    "X = (3*4)+5\n",
    "print(X)"
   ]
  },
  {
   "cell_type": "code",
   "execution_count": 2,
   "id": "e8d6faa5-038f-413a-b120-07290e5eb7f7",
   "metadata": {},
   "outputs": [
    {
     "name": "stdout",
     "output_type": "stream",
     "text": [
      "3.3333333333333335\n"
     ]
    }
   ],
   "source": [
    "# This will convert 200 minutes to hours by diving by 60\n",
    "X = 200/60\n",
    "print(X)"
   ]
  },
  {
   "cell_type": "markdown",
   "id": "a2e6c500-af7f-488b-8ef4-2e71a13ee047",
   "metadata": {},
   "source": [
    "<h2>Author</h2>\n",
    "Si Rou Lin"
   ]
  }
 ],
 "metadata": {
  "kernelspec": {
   "display_name": "Python",
   "language": "python",
   "name": "conda-env-python-py"
  },
  "language_info": {
   "codemirror_mode": {
    "name": "ipython",
    "version": 3
   },
   "file_extension": ".py",
   "mimetype": "text/x-python",
   "name": "python",
   "nbconvert_exporter": "python",
   "pygments_lexer": "ipython3",
   "version": "3.7.12"
  }
 },
 "nbformat": 4,
 "nbformat_minor": 5
}
