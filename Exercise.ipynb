{
 "cells": [
  {
   "cell_type": "markdown",
   "id": "f35bb126-ecbb-4b5e-a12b-b3181915c823",
   "metadata": {},
   "source": [
    "<h1>My Jupyter Notebook on IBM Watson Studio<h1>"
   ]
  },
  {
   "cell_type": "markdown",
   "id": "0ee69626-2b30-402f-b3ca-a7fd4c519d0a",
   "metadata": {},
   "source": [
    "**Si Rou Lin**\n",
    "\n",
    "Project Lead"
   ]
  },
  {
   "cell_type": "markdown",
   "id": "d3724fc1-d0dc-482b-98a3-26f42f6dc2e8",
   "metadata": {},
   "source": [
    "<em>I am interested in data science because it seems to be a very fun work</em>\n",
    "    <em>Which is based on truth and about to tell people the truth of story<em>"
   ]
  },
  {
   "cell_type": "markdown",
   "id": "93cab837-c8a3-43f1-bada-713852053b91",
   "metadata": {},
   "source": [
    "<h3>Simply Multiply Math<h3>"
   ]
  },
  {
   "cell_type": "code",
   "execution_count": 1,
   "id": "4f782658-f8eb-4937-a00e-accae35df7ac",
   "metadata": {},
   "outputs": [
    {
     "data": {
      "text/plain": [
       "30"
      ]
     },
     "execution_count": 1,
     "metadata": {},
     "output_type": "execute_result"
    }
   ],
   "source": [
    "6*5"
   ]
  },
  {
   "cell_type": "markdown",
   "id": "3837de55-3d56-473d-a390-fabf6360c4f2",
   "metadata": {},
   "source": [
    "Demo\n",
    "\n",
    "* Demo1\n",
    "* Demo2\n",
    "* Demo3\n",
    "***\n",
    "Numbering\n",
    "<ol>\n",
    "    <li> DemoA\n",
    "        <li> Demo B\n",
    "            <li> Demo C\n",
    "                <ol>"
   ]
  },
  {
   "cell_type": "code",
   "execution_count": null,
   "id": "3529d4e9-3f2c-46b9-822e-7723aa93e64d",
   "metadata": {},
   "outputs": [],
   "source": []
  }
 ],
 "metadata": {
  "kernelspec": {
   "display_name": "Python",
   "language": "python",
   "name": "conda-env-python-py"
  },
  "language_info": {
   "codemirror_mode": {
    "name": "ipython",
    "version": 3
   },
   "file_extension": ".py",
   "mimetype": "text/x-python",
   "name": "python",
   "nbconvert_exporter": "python",
   "pygments_lexer": "ipython3",
   "version": "3.7.12"
  }
 },
 "nbformat": 4,
 "nbformat_minor": 5
}
